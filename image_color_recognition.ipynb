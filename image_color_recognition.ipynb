{
  "nbformat": 4,
  "nbformat_minor": 0,
  "metadata": {
    "colab": {
      "provenance": [],
      "authorship_tag": "ABX9TyMCaFzlQUfoFknRMx4qZGlF",
      "include_colab_link": true
    },
    "kernelspec": {
      "name": "python3",
      "display_name": "Python 3"
    },
    "language_info": {
      "name": "python"
    }
  },
  "cells": [
    {
      "cell_type": "markdown",
      "metadata": {
        "id": "view-in-github",
        "colab_type": "text"
      },
      "source": [
        "<a href=\"https://colab.research.google.com/github/Idaogah/datalab/blob/main/image_color_recognition.ipynb\" target=\"_parent\"><img src=\"https://colab.research.google.com/assets/colab-badge.svg\" alt=\"Open In Colab\"/></a>"
      ]
    },
    {
      "cell_type": "code",
      "source": [
        "# !pip install --upgrade webcolors\n",
        "!pip uninstall webcolors -y\n",
        "!pip install webcolors==1.12"
      ],
      "metadata": {
        "colab": {
          "base_uri": "https://localhost:8080/"
        },
        "id": "weZDy3LTc5I6",
        "outputId": "f2847b0a-e238-4726-d619-873090705b00"
      },
      "execution_count": 1,
      "outputs": [
        {
          "output_type": "stream",
          "name": "stdout",
          "text": [
            "Found existing installation: webcolors 1.12\n",
            "Uninstalling webcolors-1.12:\n",
            "  Successfully uninstalled webcolors-1.12\n",
            "Collecting webcolors==1.12\n",
            "  Using cached webcolors-1.12-py3-none-any.whl.metadata (2.0 kB)\n",
            "Using cached webcolors-1.12-py3-none-any.whl (9.9 kB)\n",
            "Installing collected packages: webcolors\n",
            "Successfully installed webcolors-1.12\n"
          ]
        }
      ]
    },
    {
      "cell_type": "code",
      "source": [
        "\n",
        "# Mount Drive\n",
        "from google.colab import drive\n",
        "drive.mount('/content/drive/')\n"
      ],
      "metadata": {
        "colab": {
          "base_uri": "https://localhost:8080/"
        },
        "id": "wz0gUial-t9q",
        "outputId": "fd30de25-f37f-4b1c-865a-72ac138d97b2"
      },
      "execution_count": 2,
      "outputs": [
        {
          "output_type": "stream",
          "name": "stdout",
          "text": [
            "Drive already mounted at /content/drive/; to attempt to forcibly remount, call drive.mount(\"/content/drive/\", force_remount=True).\n"
          ]
        }
      ]
    },
    {
      "cell_type": "code",
      "execution_count": 3,
      "metadata": {
        "id": "0RUVohYo8Zye"
      },
      "outputs": [],
      "source": [
        "import webcolors\n",
        "import numpy as np\n",
        "from PIL import Image\n",
        "\n",
        "# Load the image\n",
        "image_path = '/content/drive/My Drive/ML_AI/'\n",
        "image = Image.open(image_path + 'text_color.jpg')\n",
        "\n",
        "# Convert image to RGB\n",
        "rgb_image = image.convert(\"RGB\")"
      ]
    },
    {
      "cell_type": "markdown",
      "source": [
        "# Getting Text Color"
      ],
      "metadata": {
        "id": "y8k3n1VpKJ9q"
      }
    },
    {
      "cell_type": "code",
      "source": [
        "\n",
        "# Get the pixel values at a region around the text\n",
        "cropped_region = rgb_image.crop((30, 20, 200, 40))  # Adjusted coordinates based on image structure\n",
        "cropped_pixels = np.array(cropped_region)\n",
        "\n",
        "# Get the most common color in the cropped region\n",
        "average_color = np.mean(cropped_pixels, axis=(0, 1))\n",
        "\n",
        "# Convert the average color to both hex and RGB values\n",
        "def rgb_to_hex_and_rgb(rgb):\n",
        "    hex_value = \"#{:02x}{:02x}{:02x}\".format(int(rgb[0]), int(rgb[1]), int(rgb[2]))\n",
        "    rgb_value = (int(rgb[0]), int(rgb[1]), int(rgb[2]))\n",
        "    return hex_value, rgb_value\n",
        "\n",
        "average_color_hex, average_color_rgb = rgb_to_hex_and_rgb(average_color)\n",
        "\n",
        "# Function to get the closest color name\n",
        "def closest_color(requested_color):\n",
        "    min_colors = {}\n",
        "    for key, name in webcolors.CSS3_HEX_TO_NAMES.items():\n",
        "        r_c, g_c, b_c = webcolors.hex_to_rgb(key)\n",
        "        rd = (r_c - requested_color[0]) ** 2\n",
        "        gd = (g_c - requested_color[1]) ** 2\n",
        "        bd = (b_c - requested_color[2]) ** 2\n",
        "        min_colors[(rd + gd + bd)] = name\n",
        "    return min_colors[min(min_colors.keys())]\n",
        "\n",
        "# Try to find the exact or closest color name\n",
        "def get_color_name(rgb_value):\n",
        "    try:\n",
        "        # Try to find the exact color name\n",
        "        return webcolors.rgb_to_name(rgb_value)\n",
        "    except ValueError:\n",
        "        # If there's no exact match, return the closest color name\n",
        "        return closest_color(rgb_value)\n",
        "\n",
        "# Get the color name for the extracted RGB value\n",
        "color_name = get_color_name(average_color_rgb)\n",
        "\n",
        "# Output both the hex, RGB, and color name\n",
        "average_color_hex, average_color_rgb, color_name\n",
        "\n",
        "# Print the average color in hex format\n",
        "print(\"The text color in the screenshot has a hex code of \" + average_color_hex + \\\n",
        "      \".\\n The closest color name is \" + color_name + \\\n",
        "      \". \\nThe RGB color code is \" + str(average_color_rgb))"
      ],
      "metadata": {
        "colab": {
          "base_uri": "https://localhost:8080/"
        },
        "id": "3P_BlePBcXvh",
        "outputId": "9e00039d-a60f-46a7-d496-867b79b58450"
      },
      "execution_count": 14,
      "outputs": [
        {
          "output_type": "stream",
          "name": "stdout",
          "text": [
            "The text color in the screenshot has a hex code of #d9d9da.\n",
            " The closest color name is gainsboro. \n",
            "The RGB color code is (217, 217, 218)\n"
          ]
        }
      ]
    },
    {
      "cell_type": "markdown",
      "source": [
        "# Getting Image Back ground color"
      ],
      "metadata": {
        "id": "RBhNmUimKTWi"
      }
    },
    {
      "cell_type": "code",
      "source": [
        "# To find the background color, we'll sample a different region of the image that likely contains background pixels.\n",
        "# Choosing a region slightly away from the text.\n",
        "\n",
        "background_region = rgb_image.crop((0, 0, 20, 20))  # Coordinates adjusted to capture background\n",
        "background_pixels = np.array(background_region)\n",
        "\n",
        "# Get the most common color in the cropped region\n",
        "average_background_color = np.mean(background_pixels, axis=(0, 1))\n",
        "\n",
        "# Convert the average background color to a hex code\n",
        "average_background_color_hex = rgb_to_hex_and_rgb(average_background_color)\n",
        "color_name = get_color_name(average_background_color)\n",
        "\n",
        "print(\"The background color of the screenshot is #\" + color_name + \\\n",
        "      \",\\n and Hex and RGB codes are\" + str(average_background_color_hex))\n"
      ],
      "metadata": {
        "colab": {
          "base_uri": "https://localhost:8080/"
        },
        "id": "kesuQpcwEa9y",
        "outputId": "f2687eed-63de-402d-c48e-069b95ce4cf5"
      },
      "execution_count": 26,
      "outputs": [
        {
          "output_type": "stream",
          "name": "stdout",
          "text": [
            "The background color of the screenshot is #white,\n",
            " and Hex and RGB codes are('#ffffff', (255, 255, 255))\n"
          ]
        }
      ]
    },
    {
      "cell_type": "markdown",
      "source": [
        "# Let's try another image"
      ],
      "metadata": {
        "id": "ebLIcFJ8L7K1"
      }
    },
    {
      "cell_type": "code",
      "source": [
        "# Let's try the function on another image\n",
        "\n",
        "image2 = Image.open(image_path + 'color_g.jpg')    # getting image from drive\n",
        "\n",
        "hex_color, rgb_color = rgb_to_hex_and_rgb(np.mean(np.array(image2), axis=(0, 1)))     # analyze using the previous function\n",
        "imgae2_name = get_color_name(rgb_color)\n",
        "\n",
        "hex_color, rgb_color, imgae2_name\n",
        "\n",
        "print(\"Color Name:\", imgae2_name)\n",
        "print(\"Hex Color\", hex_color)\n",
        "print(\"RGB Color\", rgb_color)"
      ],
      "metadata": {
        "colab": {
          "base_uri": "https://localhost:8080/"
        },
        "id": "eWg0umftMEmu",
        "outputId": "edb5c267-f5e0-46d4-865e-53437593958d"
      },
      "execution_count": 27,
      "outputs": [
        {
          "output_type": "stream",
          "name": "stdout",
          "text": [
            "Color Name: lime\n",
            "Hex Color #00ef00\n",
            "RGB Color (0, 239, 0)\n"
          ]
        }
      ]
    }
  ]
}