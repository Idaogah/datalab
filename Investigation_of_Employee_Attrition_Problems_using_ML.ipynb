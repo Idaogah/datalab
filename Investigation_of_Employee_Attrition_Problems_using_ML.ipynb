{
  "cells": [
    {
      "cell_type": "markdown",
      "metadata": {
        "id": "view-in-github",
        "colab_type": "text"
      },
      "source": [
        "<a href=\"https://colab.research.google.com/github/Idaogah/datalab/blob/main/Investigation_of_Employee_Attrition_Problems_using_ML.ipynb\" target=\"_parent\"><img src=\"https://colab.research.google.com/assets/colab-badge.svg\" alt=\"Open In Colab\"/></a>"
      ]
    },
    {
      "cell_type": "markdown",
      "source": [
        "## INVESTIGATION OF EMPLOYEE ATTRITION PROBLEMS USING MACHINE LEARNING ALGORITHM [THESIS]\n",
        "- This study use machine learning techniques to investigate the cause of attrition without conducting exit interviews or tracking former employees.\n",
        "\n",
        "- The goal is to find out why people voluntarily leave their employment and what elements influence their decision to leave."
      ],
      "metadata": {
        "id": "TGDU0cO1_jC_"
      },
      "id": "TGDU0cO1_jC_"
    },
    {
      "cell_type": "markdown",
      "id": "7cfafa74",
      "metadata": {
        "toc": true,
        "id": "7cfafa74"
      },
      "source": [
        "<h1>Table of Contents<span class=\"tocSkip\"></span></h1>\n",
        "<div class=\"toc\"><ul class=\"toc-item\"></ul></div>\n",
        "\n",
        "To download the datasets for the reasearch, click [here](https://drive.google.com/file/d/14o7zu-exhAC0O2PVu0mvaIgZ7Nl8EDZq/view?usp=sharing) and [here](https://drive.google.com/file/d/1_CsWwLXA-AQgemSONhtU11RBHMRCf8mn/view?usp=sharing)."
      ]
    },
    {
      "cell_type": "code",
      "execution_count": null,
      "id": "6d3b07e7",
      "metadata": {
        "scrolled": true,
        "id": "6d3b07e7",
        "outputId": "df49caeb-80df-4419-af4e-074e4a06d362"
      },
      "outputs": [
        {
          "data": {
            "text/html": [
              "<div>\n",
              "<style scoped>\n",
              "    .dataframe tbody tr th:only-of-type {\n",
              "        vertical-align: middle;\n",
              "    }\n",
              "\n",
              "    .dataframe tbody tr th {\n",
              "        vertical-align: top;\n",
              "    }\n",
              "\n",
              "    .dataframe thead th {\n",
              "        text-align: right;\n",
              "    }\n",
              "</style>\n",
              "<table border=\"1\" class=\"dataframe\">\n",
              "  <thead>\n",
              "    <tr style=\"text-align: right;\">\n",
              "      <th></th>\n",
              "      <th>EmpID</th>\n",
              "      <th>satisfaction_level</th>\n",
              "      <th>last_evaluation</th>\n",
              "      <th>number_project</th>\n",
              "      <th>average_montly_hours</th>\n",
              "      <th>time_spend_company</th>\n",
              "      <th>Work_accident</th>\n",
              "      <th>promotion_last_5years</th>\n",
              "      <th>dept</th>\n",
              "      <th>salary</th>\n",
              "      <th>status</th>\n",
              "    </tr>\n",
              "  </thead>\n",
              "  <tbody>\n",
              "    <tr>\n",
              "      <th>0</th>\n",
              "      <td>1</td>\n",
              "      <td>0.38</td>\n",
              "      <td>0.53</td>\n",
              "      <td>2</td>\n",
              "      <td>157</td>\n",
              "      <td>3</td>\n",
              "      <td>0</td>\n",
              "      <td>0</td>\n",
              "      <td>sales</td>\n",
              "      <td>low</td>\n",
              "      <td>1</td>\n",
              "    </tr>\n",
              "    <tr>\n",
              "      <th>1</th>\n",
              "      <td>2</td>\n",
              "      <td>0.80</td>\n",
              "      <td>0.86</td>\n",
              "      <td>5</td>\n",
              "      <td>262</td>\n",
              "      <td>6</td>\n",
              "      <td>0</td>\n",
              "      <td>0</td>\n",
              "      <td>sales</td>\n",
              "      <td>medium</td>\n",
              "      <td>1</td>\n",
              "    </tr>\n",
              "    <tr>\n",
              "      <th>2</th>\n",
              "      <td>3</td>\n",
              "      <td>0.11</td>\n",
              "      <td>0.88</td>\n",
              "      <td>7</td>\n",
              "      <td>272</td>\n",
              "      <td>4</td>\n",
              "      <td>0</td>\n",
              "      <td>0</td>\n",
              "      <td>sales</td>\n",
              "      <td>medium</td>\n",
              "      <td>1</td>\n",
              "    </tr>\n",
              "    <tr>\n",
              "      <th>3</th>\n",
              "      <td>4</td>\n",
              "      <td>0.72</td>\n",
              "      <td>0.87</td>\n",
              "      <td>5</td>\n",
              "      <td>223</td>\n",
              "      <td>5</td>\n",
              "      <td>0</td>\n",
              "      <td>0</td>\n",
              "      <td>sales</td>\n",
              "      <td>low</td>\n",
              "      <td>1</td>\n",
              "    </tr>\n",
              "    <tr>\n",
              "      <th>4</th>\n",
              "      <td>5</td>\n",
              "      <td>0.37</td>\n",
              "      <td>0.52</td>\n",
              "      <td>2</td>\n",
              "      <td>159</td>\n",
              "      <td>3</td>\n",
              "      <td>0</td>\n",
              "      <td>0</td>\n",
              "      <td>sales</td>\n",
              "      <td>low</td>\n",
              "      <td>1</td>\n",
              "    </tr>\n",
              "    <tr>\n",
              "      <th>...</th>\n",
              "      <td>...</td>\n",
              "      <td>...</td>\n",
              "      <td>...</td>\n",
              "      <td>...</td>\n",
              "      <td>...</td>\n",
              "      <td>...</td>\n",
              "      <td>...</td>\n",
              "      <td>...</td>\n",
              "      <td>...</td>\n",
              "      <td>...</td>\n",
              "      <td>...</td>\n",
              "    </tr>\n",
              "    <tr>\n",
              "      <th>11423</th>\n",
              "      <td>14207</td>\n",
              "      <td>0.90</td>\n",
              "      <td>0.55</td>\n",
              "      <td>3</td>\n",
              "      <td>259</td>\n",
              "      <td>10</td>\n",
              "      <td>1</td>\n",
              "      <td>1</td>\n",
              "      <td>management</td>\n",
              "      <td>high</td>\n",
              "      <td>0</td>\n",
              "    </tr>\n",
              "    <tr>\n",
              "      <th>11424</th>\n",
              "      <td>14208</td>\n",
              "      <td>0.74</td>\n",
              "      <td>0.95</td>\n",
              "      <td>5</td>\n",
              "      <td>266</td>\n",
              "      <td>10</td>\n",
              "      <td>0</td>\n",
              "      <td>1</td>\n",
              "      <td>management</td>\n",
              "      <td>high</td>\n",
              "      <td>0</td>\n",
              "    </tr>\n",
              "    <tr>\n",
              "      <th>11425</th>\n",
              "      <td>14209</td>\n",
              "      <td>0.85</td>\n",
              "      <td>0.54</td>\n",
              "      <td>3</td>\n",
              "      <td>185</td>\n",
              "      <td>10</td>\n",
              "      <td>0</td>\n",
              "      <td>1</td>\n",
              "      <td>management</td>\n",
              "      <td>high</td>\n",
              "      <td>0</td>\n",
              "    </tr>\n",
              "    <tr>\n",
              "      <th>11426</th>\n",
              "      <td>14210</td>\n",
              "      <td>0.33</td>\n",
              "      <td>0.65</td>\n",
              "      <td>3</td>\n",
              "      <td>172</td>\n",
              "      <td>10</td>\n",
              "      <td>0</td>\n",
              "      <td>1</td>\n",
              "      <td>marketing</td>\n",
              "      <td>high</td>\n",
              "      <td>0</td>\n",
              "    </tr>\n",
              "    <tr>\n",
              "      <th>11427</th>\n",
              "      <td>14211</td>\n",
              "      <td>0.50</td>\n",
              "      <td>0.73</td>\n",
              "      <td>4</td>\n",
              "      <td>180</td>\n",
              "      <td>3</td>\n",
              "      <td>0</td>\n",
              "      <td>0</td>\n",
              "      <td>IT</td>\n",
              "      <td>low</td>\n",
              "      <td>0</td>\n",
              "    </tr>\n",
              "  </tbody>\n",
              "</table>\n",
              "<p>14999 rows × 11 columns</p>\n",
              "</div>"
            ],
            "text/plain": [
              "       EmpID  satisfaction_level  last_evaluation  number_project  \\\n",
              "0          1                0.38             0.53               2   \n",
              "1          2                0.80             0.86               5   \n",
              "2          3                0.11             0.88               7   \n",
              "3          4                0.72             0.87               5   \n",
              "4          5                0.37             0.52               2   \n",
              "...      ...                 ...              ...             ...   \n",
              "11423  14207                0.90             0.55               3   \n",
              "11424  14208                0.74             0.95               5   \n",
              "11425  14209                0.85             0.54               3   \n",
              "11426  14210                0.33             0.65               3   \n",
              "11427  14211                0.50             0.73               4   \n",
              "\n",
              "       average_montly_hours  time_spend_company  Work_accident  \\\n",
              "0                       157                   3              0   \n",
              "1                       262                   6              0   \n",
              "2                       272                   4              0   \n",
              "3                       223                   5              0   \n",
              "4                       159                   3              0   \n",
              "...                     ...                 ...            ...   \n",
              "11423                   259                  10              1   \n",
              "11424                   266                  10              0   \n",
              "11425                   185                  10              0   \n",
              "11426                   172                  10              0   \n",
              "11427                   180                   3              0   \n",
              "\n",
              "       promotion_last_5years        dept  salary  status  \n",
              "0                          0       sales     low       1  \n",
              "1                          0       sales  medium       1  \n",
              "2                          0       sales  medium       1  \n",
              "3                          0       sales     low       1  \n",
              "4                          0       sales     low       1  \n",
              "...                      ...         ...     ...     ...  \n",
              "11423                      1  management    high       0  \n",
              "11424                      1  management    high       0  \n",
              "11425                      1  management    high       0  \n",
              "11426                      1   marketing    high       0  \n",
              "11427                      0          IT     low       0  \n",
              "\n",
              "[14999 rows x 11 columns]"
            ]
          },
          "metadata": {},
          "output_type": "display_data"
        }
      ],
      "source": [
        "# _importing pandas library\n",
        "# _loading CSV files\n",
        "\n",
        "import pandas as pd\n",
        "\n",
        "present_emp = pd.read_csv('present_emp.csv')\n",
        "\n",
        "past_emp = pd.read_csv('past_emp.csv')\n",
        "\n",
        "emp_dataset = pd.concat([past_emp, present_emp])\n",
        "\n",
        "display(emp_dataset)"
      ]
    },
    {
      "cell_type": "code",
      "execution_count": null,
      "id": "99bdb6b0",
      "metadata": {
        "id": "99bdb6b0",
        "outputId": "f3878c27-13b1-449d-fdc8-cb5b030b79c7"
      },
      "outputs": [
        {
          "data": {
            "image/png": "[encoded data removed]",
            "text/plain": [
              "<Figure size 432x288 with 1 Axes>"
            ]
          },
          "metadata": {
            "needs_background": "light"
          },
          "output_type": "display_data"
        }
      ],
      "source": [
        "# _importing NumPy\n",
        "# _visualizing present and past employee\n",
        "\n",
        "import numpy as np\n",
        "import matplotlib.pyplot as plt\n",
        "%matplotlib inline\n",
        "\n",
        "status_count = emp_dataset.groupby('status').count()\n",
        "\n",
        "plt.bar(status_count.index.values, status_count['salary'], color=['green', 'red', 'blue'])\n",
        "\n",
        "plt.yticks(ticks=range(2000, 13000, 2000))\n",
        "plt.xticks(ticks=[0, 1], labels=['stayed', 'quitted'], fontsize=15,color='blue')\n",
        "\n",
        "plt.xlabel('Employee Status', fontsize=15)\n",
        "plt.ylabel('Number of Employee', fontsize=15)\n",
        "plt.show()"
      ]
    },
    {
      "cell_type": "code",
      "execution_count": null,
      "id": "97eb8a9d",
      "metadata": {
        "id": "97eb8a9d",
        "outputId": "e7e11d57-77ab-4d24-e772-2365452ad3d1"
      },
      "outputs": [
        {
          "data": {
            "text/html": [
              "<div>\n",
              "<style scoped>\n",
              "    .dataframe tbody tr th:only-of-type {\n",
              "        vertical-align: middle;\n",
              "    }\n",
              "\n",
              "    .dataframe tbody tr th {\n",
              "        vertical-align: top;\n",
              "    }\n",
              "\n",
              "    .dataframe thead th {\n",
              "        text-align: right;\n",
              "    }\n",
              "</style>\n",
              "<table border=\"1\" class=\"dataframe\">\n",
              "  <thead>\n",
              "    <tr style=\"text-align: right;\">\n",
              "      <th></th>\n",
              "      <th>EmpID</th>\n",
              "      <th>satisfaction_level</th>\n",
              "      <th>last_evaluation</th>\n",
              "      <th>number_project</th>\n",
              "      <th>average_montly_hours</th>\n",
              "      <th>time_spend_company</th>\n",
              "      <th>Work_accident</th>\n",
              "      <th>promotion_last_5years</th>\n",
              "      <th>dept</th>\n",
              "      <th>salary</th>\n",
              "      <th>status</th>\n",
              "    </tr>\n",
              "  </thead>\n",
              "  <tbody>\n",
              "    <tr>\n",
              "      <th>0</th>\n",
              "      <td>1</td>\n",
              "      <td>0.38</td>\n",
              "      <td>0.53</td>\n",
              "      <td>2</td>\n",
              "      <td>157</td>\n",
              "      <td>3</td>\n",
              "      <td>0</td>\n",
              "      <td>0</td>\n",
              "      <td>sales</td>\n",
              "      <td>low</td>\n",
              "      <td>1</td>\n",
              "    </tr>\n",
              "    <tr>\n",
              "      <th>1</th>\n",
              "      <td>2</td>\n",
              "      <td>0.80</td>\n",
              "      <td>0.86</td>\n",
              "      <td>5</td>\n",
              "      <td>262</td>\n",
              "      <td>6</td>\n",
              "      <td>0</td>\n",
              "      <td>0</td>\n",
              "      <td>sales</td>\n",
              "      <td>medium</td>\n",
              "      <td>1</td>\n",
              "    </tr>\n",
              "    <tr>\n",
              "      <th>2</th>\n",
              "      <td>3</td>\n",
              "      <td>0.11</td>\n",
              "      <td>0.88</td>\n",
              "      <td>7</td>\n",
              "      <td>272</td>\n",
              "      <td>4</td>\n",
              "      <td>0</td>\n",
              "      <td>0</td>\n",
              "      <td>sales</td>\n",
              "      <td>medium</td>\n",
              "      <td>1</td>\n",
              "    </tr>\n",
              "    <tr>\n",
              "      <th>3</th>\n",
              "      <td>4</td>\n",
              "      <td>0.72</td>\n",
              "      <td>0.87</td>\n",
              "      <td>5</td>\n",
              "      <td>223</td>\n",
              "      <td>5</td>\n",
              "      <td>0</td>\n",
              "      <td>0</td>\n",
              "      <td>sales</td>\n",
              "      <td>low</td>\n",
              "      <td>1</td>\n",
              "    </tr>\n",
              "    <tr>\n",
              "      <th>4</th>\n",
              "      <td>5</td>\n",
              "      <td>0.37</td>\n",
              "      <td>0.52</td>\n",
              "      <td>2</td>\n",
              "      <td>159</td>\n",
              "      <td>3</td>\n",
              "      <td>0</td>\n",
              "      <td>0</td>\n",
              "      <td>sales</td>\n",
              "      <td>low</td>\n",
              "      <td>1</td>\n",
              "    </tr>\n",
              "  </tbody>\n",
              "</table>\n",
              "</div>"
            ],
            "text/plain": [
              "   EmpID  satisfaction_level  last_evaluation  number_project  \\\n",
              "0      1                0.38             0.53               2   \n",
              "1      2                0.80             0.86               5   \n",
              "2      3                0.11             0.88               7   \n",
              "3      4                0.72             0.87               5   \n",
              "4      5                0.37             0.52               2   \n",
              "\n",
              "   average_montly_hours  time_spend_company  Work_accident  \\\n",
              "0                   157                   3              0   \n",
              "1                   262                   6              0   \n",
              "2                   272                   4              0   \n",
              "3                   223                   5              0   \n",
              "4                   159                   3              0   \n",
              "\n",
              "   promotion_last_5years   dept  salary  status  \n",
              "0                      0  sales     low       1  \n",
              "1                      0  sales  medium       1  \n",
              "2                      0  sales  medium       1  \n",
              "3                      0  sales     low       1  \n",
              "4                      0  sales     low       1  "
            ]
          },
          "metadata": {},
          "output_type": "display_data"
        },
        {
          "name": "stdout",
          "output_type": "stream",
          "text": [
            "<class 'pandas.core.frame.DataFrame'>\n",
            "Int64Index: 14999 entries, 0 to 11427\n",
            "Data columns (total 11 columns):\n",
            " #   Column                 Non-Null Count  Dtype  \n",
            "---  ------                 --------------  -----  \n",
            " 0   EmpID                  14999 non-null  int64  \n",
            " 1   satisfaction_level     14999 non-null  float64\n",
            " 2   last_evaluation        14999 non-null  float64\n",
            " 3   number_project         14999 non-null  int64  \n",
            " 4   average_montly_hours   14999 non-null  int64  \n",
            " 5   time_spend_company     14999 non-null  int64  \n",
            " 6   Work_accident          14999 non-null  int64  \n",
            " 7   promotion_last_5years  14999 non-null  int64  \n",
            " 8   dept                   14999 non-null  object \n",
            " 9   salary                 14999 non-null  object \n",
            " 10  status                 14999 non-null  int64  \n",
            "dtypes: float64(2), int64(7), object(2)\n",
            "memory usage: 1.4+ MB\n"
          ]
        },
        {
          "data": {
            "text/plain": [
              "None"
            ]
          },
          "metadata": {},
          "output_type": "display_data"
        }
      ],
      "source": [
        "# Dataset Exploration and Examination\n",
        "\n",
        "display(emp_dataset.head())\n",
        "display(emp_dataset.info())"
      ]
    },
    {
      "cell_type": "code",
      "execution_count": null,
      "id": "266a25dc",
      "metadata": {
        "id": "266a25dc",
        "outputId": "3d996569-c50e-4f58-9cee-3e4b02dd7953"
      },
      "outputs": [
        {
          "name": "stdout",
          "output_type": "stream",
          "text": [
            "0    76.191746\n",
            "1    23.808254\n",
            "Name: status, dtype: float64\n",
            "0=present employee, 1=past employee\n"
          ]
        }
      ],
      "source": [
        "# Basic summary\n",
        "total_observations = len(emp_dataset)\n",
        "\n",
        "\n",
        "print(emp_dataset.status.value_counts()/total_observations*100)\n",
        "print('0=present employee, 1=past employee')"
      ]
    },
    {
      "cell_type": "code",
      "execution_count": null,
      "id": "5e732c94",
      "metadata": {
        "id": "5e732c94",
        "outputId": "67656628-f8a2-4ec8-a7d4-a9e171c3bf56"
      },
      "outputs": [
        {
          "data": {
            "text/plain": [
              "array([0, 1, 2], dtype=int8)"
            ]
          },
          "metadata": {},
          "output_type": "display_data"
        }
      ],
      "source": [
        "# Data cleaning and tranformation\n",
        "\n",
        "#emp_dataset = emp_dataset.drop('EmpID',axis=1)\n",
        "clean_data = emp_dataset.drop('EmpID', axis=1)\n",
        "\n",
        "\n",
        "\n",
        "# _Observiving categorical variable\n",
        "\n",
        "# display(emp_dataset.salary.unique())\n",
        "# display(emp_dataset.dept.unique())\n",
        "\n",
        "# Transforming salary to catgorical variable\n",
        "clean_data.salary = clean_data.salary.astype('category')\n",
        "\n",
        "# Setting the order of the category\n",
        "clean_data.salary = clean_data.salary.cat.reorder_categories(['low', 'medium' ,'high'])\n",
        "\n",
        "# Encoding categories with integer values\n",
        "clean_data.salary = clean_data.salary.cat.codes\n",
        "\n",
        "display(clean_data.salary.unique())\n"
      ]
    },
    {
      "cell_type": "code",
      "execution_count": null,
      "id": "92534903",
      "metadata": {
        "id": "92534903",
        "outputId": "2dd98b35-b0b5-4064-dd50-21860a203678"
      },
      "outputs": [
        {
          "data": {
            "image/png": "[encoded data removed]",
            "text/plain": [
              "<Figure size 432x288 with 2 Axes>"
            ]
          },
          "metadata": {
            "needs_background": "light"
          },
          "output_type": "display_data"
        },
        {
          "data": {
            "text/plain": [
              "<Figure size 576x1152 with 0 Axes>"
            ]
          },
          "metadata": {},
          "output_type": "display_data"
        }
      ],
      "source": [
        "# Finding the correlation between the variables\n",
        "\n",
        "import matplotlib.pyplot as plt\n",
        "import seaborn as sns\n",
        "corr_matrix = clean_data.corr()\n",
        "sns.heatmap(corr_matrix, cmap=\"YlGnBu\", vmin=-1, vmax=1, annot=True)\n",
        "plt.figure(figsize=(8, 16))\n",
        "#plt.yticks(ticks=[x / 10 for x in range(0, 10)])\n",
        "\n",
        "plt.show()"
      ]
    },
    {
      "cell_type": "code",
      "execution_count": null,
      "id": "d806872f",
      "metadata": {
        "id": "d806872f",
        "outputId": "d2addf95-f65b-4856-f3d8-899caa4e579e"
      },
      "outputs": [
        {
          "data": {
            "text/html": [
              "<div>\n",
              "<style scoped>\n",
              "    .dataframe tbody tr th:only-of-type {\n",
              "        vertical-align: middle;\n",
              "    }\n",
              "\n",
              "    .dataframe tbody tr th {\n",
              "        vertical-align: top;\n",
              "    }\n",
              "\n",
              "    .dataframe thead th {\n",
              "        text-align: right;\n",
              "    }\n",
              "</style>\n",
              "<table border=\"1\" class=\"dataframe\">\n",
              "  <thead>\n",
              "    <tr style=\"text-align: right;\">\n",
              "      <th></th>\n",
              "      <th>IT</th>\n",
              "      <th>RandD</th>\n",
              "      <th>accounting</th>\n",
              "      <th>hr</th>\n",
              "      <th>management</th>\n",
              "      <th>marketing</th>\n",
              "      <th>product_mng</th>\n",
              "      <th>sales</th>\n",
              "      <th>support</th>\n",
              "      <th>technical</th>\n",
              "    </tr>\n",
              "  </thead>\n",
              "  <tbody>\n",
              "    <tr>\n",
              "      <th>0</th>\n",
              "      <td>0</td>\n",
              "      <td>0</td>\n",
              "      <td>0</td>\n",
              "      <td>0</td>\n",
              "      <td>0</td>\n",
              "      <td>0</td>\n",
              "      <td>0</td>\n",
              "      <td>1</td>\n",
              "      <td>0</td>\n",
              "      <td>0</td>\n",
              "    </tr>\n",
              "    <tr>\n",
              "      <th>1</th>\n",
              "      <td>0</td>\n",
              "      <td>0</td>\n",
              "      <td>0</td>\n",
              "      <td>0</td>\n",
              "      <td>0</td>\n",
              "      <td>0</td>\n",
              "      <td>0</td>\n",
              "      <td>1</td>\n",
              "      <td>0</td>\n",
              "      <td>0</td>\n",
              "    </tr>\n",
              "    <tr>\n",
              "      <th>2</th>\n",
              "      <td>0</td>\n",
              "      <td>0</td>\n",
              "      <td>0</td>\n",
              "      <td>0</td>\n",
              "      <td>0</td>\n",
              "      <td>0</td>\n",
              "      <td>0</td>\n",
              "      <td>1</td>\n",
              "      <td>0</td>\n",
              "      <td>0</td>\n",
              "    </tr>\n",
              "    <tr>\n",
              "      <th>3</th>\n",
              "      <td>0</td>\n",
              "      <td>0</td>\n",
              "      <td>0</td>\n",
              "      <td>0</td>\n",
              "      <td>0</td>\n",
              "      <td>0</td>\n",
              "      <td>0</td>\n",
              "      <td>1</td>\n",
              "      <td>0</td>\n",
              "      <td>0</td>\n",
              "    </tr>\n",
              "    <tr>\n",
              "      <th>4</th>\n",
              "      <td>0</td>\n",
              "      <td>0</td>\n",
              "      <td>0</td>\n",
              "      <td>0</td>\n",
              "      <td>0</td>\n",
              "      <td>0</td>\n",
              "      <td>0</td>\n",
              "      <td>1</td>\n",
              "      <td>0</td>\n",
              "      <td>0</td>\n",
              "    </tr>\n",
              "  </tbody>\n",
              "</table>\n",
              "</div>"
            ],
            "text/plain": [
              "   IT  RandD  accounting  hr  management  marketing  product_mng  sales  \\\n",
              "0   0      0           0   0           0          0            0      1   \n",
              "1   0      0           0   0           0          0            0      1   \n",
              "2   0      0           0   0           0          0            0      1   \n",
              "3   0      0           0   0           0          0            0      1   \n",
              "4   0      0           0   0           0          0            0      1   \n",
              "\n",
              "   support  technical  \n",
              "0        0          0  \n",
              "1        0          0  \n",
              "2        0          0  \n",
              "3        0          0  \n",
              "4        0          0  "
            ]
          },
          "execution_count": 7,
          "metadata": {},
          "output_type": "execute_result"
        }
      ],
      "source": [
        "\n",
        "\n",
        "# Getting department dummies\n",
        "departments = pd.get_dummies(clean_data.dept)\n",
        "departments.head()"
      ]
    },
    {
      "cell_type": "code",
      "execution_count": null,
      "id": "9169caa1",
      "metadata": {
        "id": "9169caa1",
        "outputId": "31074a59-d8c1-4b9c-f769-7d35566a6605"
      },
      "outputs": [
        {
          "name": "stdout",
          "output_type": "stream",
          "text": [
            "IT             1227\n",
            "RandD           787\n",
            "accounting      767\n",
            "hr              739\n",
            "management      630\n",
            "marketing       858\n",
            "product_mng     902\n",
            "sales          4140\n",
            "support        2229\n",
            "technical      2720\n",
            "dtype: int64\n"
          ]
        }
      ],
      "source": [
        "print(departments.sum())"
      ]
    },
    {
      "cell_type": "code",
      "execution_count": null,
      "id": "d2c5e99e",
      "metadata": {
        "scrolled": true,
        "id": "d2c5e99e",
        "outputId": "a58e56e4-9b04-4f11-ba84-2539373872f5"
      },
      "outputs": [
        {
          "data": {
            "text/html": [
              "<div>\n",
              "<style scoped>\n",
              "    .dataframe tbody tr th:only-of-type {\n",
              "        vertical-align: middle;\n",
              "    }\n",
              "\n",
              "    .dataframe tbody tr th {\n",
              "        vertical-align: top;\n",
              "    }\n",
              "\n",
              "    .dataframe thead th {\n",
              "        text-align: right;\n",
              "    }\n",
              "</style>\n",
              "<table border=\"1\" class=\"dataframe\">\n",
              "  <thead>\n",
              "    <tr style=\"text-align: right;\">\n",
              "      <th></th>\n",
              "      <th>satisfaction_level</th>\n",
              "      <th>last_evaluation</th>\n",
              "      <th>number_project</th>\n",
              "      <th>average_montly_hours</th>\n",
              "      <th>time_spend_company</th>\n",
              "      <th>Work_accident</th>\n",
              "      <th>promotion_last_5years</th>\n",
              "      <th>salary</th>\n",
              "      <th>status</th>\n",
              "      <th>IT</th>\n",
              "      <th>RandD</th>\n",
              "      <th>accounting</th>\n",
              "      <th>hr</th>\n",
              "      <th>management</th>\n",
              "      <th>marketing</th>\n",
              "      <th>product_mng</th>\n",
              "      <th>sales</th>\n",
              "      <th>support</th>\n",
              "    </tr>\n",
              "  </thead>\n",
              "  <tbody>\n",
              "    <tr>\n",
              "      <th>0</th>\n",
              "      <td>0.38</td>\n",
              "      <td>0.53</td>\n",
              "      <td>2</td>\n",
              "      <td>157</td>\n",
              "      <td>3</td>\n",
              "      <td>0</td>\n",
              "      <td>0</td>\n",
              "      <td>0</td>\n",
              "      <td>1</td>\n",
              "      <td>0</td>\n",
              "      <td>0</td>\n",
              "      <td>0</td>\n",
              "      <td>0</td>\n",
              "      <td>0</td>\n",
              "      <td>0</td>\n",
              "      <td>0</td>\n",
              "      <td>1</td>\n",
              "      <td>0</td>\n",
              "    </tr>\n",
              "    <tr>\n",
              "      <th>0</th>\n",
              "      <td>0.38</td>\n",
              "      <td>0.53</td>\n",
              "      <td>2</td>\n",
              "      <td>157</td>\n",
              "      <td>3</td>\n",
              "      <td>0</td>\n",
              "      <td>0</td>\n",
              "      <td>0</td>\n",
              "      <td>1</td>\n",
              "      <td>0</td>\n",
              "      <td>0</td>\n",
              "      <td>0</td>\n",
              "      <td>0</td>\n",
              "      <td>0</td>\n",
              "      <td>0</td>\n",
              "      <td>0</td>\n",
              "      <td>1</td>\n",
              "      <td>0</td>\n",
              "    </tr>\n",
              "    <tr>\n",
              "      <th>0</th>\n",
              "      <td>0.58</td>\n",
              "      <td>0.74</td>\n",
              "      <td>4</td>\n",
              "      <td>215</td>\n",
              "      <td>3</td>\n",
              "      <td>0</td>\n",
              "      <td>0</td>\n",
              "      <td>0</td>\n",
              "      <td>0</td>\n",
              "      <td>0</td>\n",
              "      <td>0</td>\n",
              "      <td>0</td>\n",
              "      <td>0</td>\n",
              "      <td>0</td>\n",
              "      <td>0</td>\n",
              "      <td>0</td>\n",
              "      <td>1</td>\n",
              "      <td>0</td>\n",
              "    </tr>\n",
              "    <tr>\n",
              "      <th>0</th>\n",
              "      <td>0.58</td>\n",
              "      <td>0.74</td>\n",
              "      <td>4</td>\n",
              "      <td>215</td>\n",
              "      <td>3</td>\n",
              "      <td>0</td>\n",
              "      <td>0</td>\n",
              "      <td>0</td>\n",
              "      <td>0</td>\n",
              "      <td>0</td>\n",
              "      <td>0</td>\n",
              "      <td>0</td>\n",
              "      <td>0</td>\n",
              "      <td>0</td>\n",
              "      <td>0</td>\n",
              "      <td>0</td>\n",
              "      <td>1</td>\n",
              "      <td>0</td>\n",
              "    </tr>\n",
              "    <tr>\n",
              "      <th>1</th>\n",
              "      <td>0.80</td>\n",
              "      <td>0.86</td>\n",
              "      <td>5</td>\n",
              "      <td>262</td>\n",
              "      <td>6</td>\n",
              "      <td>0</td>\n",
              "      <td>0</td>\n",
              "      <td>1</td>\n",
              "      <td>1</td>\n",
              "      <td>0</td>\n",
              "      <td>0</td>\n",
              "      <td>0</td>\n",
              "      <td>0</td>\n",
              "      <td>0</td>\n",
              "      <td>0</td>\n",
              "      <td>0</td>\n",
              "      <td>1</td>\n",
              "      <td>0</td>\n",
              "    </tr>\n",
              "  </tbody>\n",
              "</table>\n",
              "</div>"
            ],
            "text/plain": [
              "   satisfaction_level  last_evaluation  number_project  average_montly_hours  \\\n",
              "0                0.38             0.53               2                   157   \n",
              "0                0.38             0.53               2                   157   \n",
              "0                0.58             0.74               4                   215   \n",
              "0                0.58             0.74               4                   215   \n",
              "1                0.80             0.86               5                   262   \n",
              "\n",
              "   time_spend_company  Work_accident  promotion_last_5years  salary  status  \\\n",
              "0                   3              0                      0       0       1   \n",
              "0                   3              0                      0       0       1   \n",
              "0                   3              0                      0       0       0   \n",
              "0                   3              0                      0       0       0   \n",
              "1                   6              0                      0       1       1   \n",
              "\n",
              "   IT  RandD  accounting  hr  management  marketing  product_mng  sales  \\\n",
              "0   0      0           0   0           0          0            0      1   \n",
              "0   0      0           0   0           0          0            0      1   \n",
              "0   0      0           0   0           0          0            0      1   \n",
              "0   0      0           0   0           0          0            0      1   \n",
              "1   0      0           0   0           0          0            0      1   \n",
              "\n",
              "   support  \n",
              "0        0  \n",
              "0        0  \n",
              "0        0  \n",
              "0        0  \n",
              "1        0  "
            ]
          },
          "execution_count": 9,
          "metadata": {},
          "output_type": "execute_result"
        }
      ],
      "source": [
        "# Dummy trapping of the department data frame\n",
        "# by removing one column from the dummy\n",
        "dept_without_technical = departments.drop(\"technical\", axis = 1)\n",
        "\n",
        "# Removing previous \"dept\" column from the dataset\n",
        "transform_clean_data = clean_data.drop(\"dept\", axis = 1)\n",
        "\n",
        "# Joing the dept_without_technical into the main dataset\n",
        "transform_clean_data = transform_clean_data.join(dept_without_technical)\n",
        "transform_clean_data.head()"
      ]
    },
    {
      "cell_type": "code",
      "execution_count": null,
      "id": "362cdfcf",
      "metadata": {
        "id": "362cdfcf"
      },
      "outputs": [],
      "source": [
        "# Setting the dependent column (status) as target\n",
        "\n",
        "target = transform_clean_data.status\n",
        "\n",
        "# Setting all other columns as features\n",
        "features = transform_clean_data.drop(\"status\",axis=1)\n"
      ]
    },
    {
      "cell_type": "code",
      "execution_count": null,
      "id": "3b629173",
      "metadata": {
        "id": "3b629173"
      },
      "outputs": [],
      "source": [
        "# Train/test split\n",
        "# train - the component used to develop the model\n",
        "# test - the component used to validate the model\n",
        "\n",
        "from sklearn.model_selection import train_test_split\n",
        "\n",
        "target_train, target_test = train_test_split(target, test_size=0.25,random_state=22)\n",
        "features_train, features_test = train_test_split(features, test_size=0.25,random_state=22)\n"
      ]
    },
    {
      "cell_type": "code",
      "execution_count": null,
      "id": "6dc6be6f",
      "metadata": {
        "id": "6dc6be6f",
        "outputId": "c31832c8-c488-47a1-b4b1-28620832b423"
      },
      "outputs": [
        {
          "name": "stdout",
          "output_type": "stream",
          "text": [
            "train set accuracy:  100.0\n",
            "test set accuracy:  98.59104046242774\n"
          ]
        }
      ],
      "source": [
        "# importing DecisionTreeClassifier\n",
        "\n",
        "from sklearn.tree import DecisionTreeClassifier\n",
        "model = DecisionTreeClassifier(random_state=22)\n",
        "\n",
        "# fitting features with target samples\n",
        "model.fit(features_train, target_train)\n",
        "\n",
        "#model.fit(features_test, target_test)\n",
        "\n",
        "# Check the accuracy score of the prediction for the training sample\n",
        "print('train set accuracy: ', model.score(features_train, target_train)*100)\n",
        "\n",
        "# Check the accuracy score of the prediction for the test sample\n",
        "print('test set accuracy: ', model.score(features_test,target_test)*100)"
      ]
    },
    {
      "cell_type": "code",
      "execution_count": null,
      "id": "7b39627e",
      "metadata": {
        "id": "7b39627e"
      },
      "outputs": [],
      "source": [
        "# Importing tree visualization function\n",
        "\n",
        "from sklearn.tree import export_graphviz\n",
        "\n",
        "# Applying decision tree to fit model\n",
        "model.fit(features_train,target_train)\n",
        "\n",
        "# Exporting the tree to a dot file\n",
        "export_graphviz(model,\"tree.dot\")\n"
      ]
    },
    {
      "cell_type": "code",
      "execution_count": null,
      "id": "2ca6449d",
      "metadata": {
        "id": "2ca6449d",
        "outputId": "829aed52-60ed-4d69-f70b-5062f986dc08"
      },
      "outputs": [
        {
          "name": "stdout",
          "output_type": "stream",
          "text": [
            "train accuracy =  96.38060825052695\n",
            "test accuracy =  96.3150289017341\n"
          ]
        }
      ],
      "source": [
        "# Overfitting control\n",
        "# by limiting max tree depth:\n",
        "# by limiting min sample size on a leaf:\n",
        "\n",
        "fitted_sample = DecisionTreeClassifier(max_depth=6, min_samples_leaf=50, random_state=22)\n",
        "\n",
        "# Fit the model\n",
        "fitted_sample.fit(features_train,target_train)\n",
        "\n",
        "# Print the accuracy of the prediction for the training set\n",
        "print(\"train accuracy = \", fitted_sample.score(features_train,target_train)*100)\n",
        "\n",
        "# Print the accuracy of the prediction for the test set\n",
        "print(\"test accuracy = \", fitted_sample.score(features_test,target_test)*100)\n",
        "\n"
      ]
    },
    {
      "cell_type": "code",
      "execution_count": null,
      "id": "d0687309",
      "metadata": {
        "id": "d0687309",
        "outputId": "bf2d2db2-165a-4330-f2d2-4c4e80e37c5e"
      },
      "outputs": [
        {
          "data": {
            "text/plain": [
              "0.971830985915493"
            ]
          },
          "execution_count": 15,
          "metadata": {},
          "output_type": "execute_result"
        }
      ],
      "source": [
        "# Importing precision score library\n",
        "\n",
        "from sklearn.metrics import precision_score\n",
        "\n",
        "# Predicting whether employee will leave or not using test sample\n",
        "prediction = model.predict(features_test)\n",
        "\n",
        "# Calculating precision score\n",
        "# by comparing target_test with the prediction\n",
        "\n",
        "precision_score(target_test, prediction)"
      ]
    },
    {
      "cell_type": "code",
      "execution_count": null,
      "id": "a4874963",
      "metadata": {
        "id": "a4874963",
        "outputId": "bfc79b33-45b0-4f55-a85e-dabc6410a2f6"
      },
      "outputs": [
        {
          "data": {
            "text/plain": [
              "0.9857142857142858"
            ]
          },
          "execution_count": 16,
          "metadata": {},
          "output_type": "execute_result"
        }
      ],
      "source": [
        "# Importing recall score library\n",
        "\n",
        "from sklearn.metrics import recall_score\n",
        "\n",
        "# Use the initial model to predict churn\n",
        "prediction = model.predict(features_test)\n",
        "\n",
        "# Calculating recall_score\n",
        "# by comparing target_test with the prediction\n",
        "\n",
        "recall_score(target_test, prediction)"
      ]
    },
    {
      "cell_type": "code",
      "execution_count": null,
      "id": "21c150ba",
      "metadata": {
        "id": "21c150ba",
        "outputId": "e409f25e-50ad-482a-d5a3-b32577c90a66"
      },
      "outputs": [
        {
          "data": {
            "text/plain": [
              "0.9858603721359372"
            ]
          },
          "execution_count": 17,
          "metadata": {},
          "output_type": "execute_result"
        }
      ],
      "source": [
        "# Importing ROC/AUC score\n",
        "\n",
        "from sklearn.metrics import roc_auc_score\n",
        "\n",
        "# predict churn (based on features_test)\n",
        "prediction = model.predict(features_test)\n",
        "\n",
        "# Calculating ROC/AUC score\n",
        "# by comparing target_test with the prediction\n",
        "\n",
        "roc_auc_score(target_test, prediction)"
      ]
    },
    {
      "cell_type": "code",
      "execution_count": null,
      "id": "386a169e",
      "metadata": {
        "id": "386a169e",
        "outputId": "4f6141b7-3e63-446c-b2dd-bb6ae66b210d"
      },
      "outputs": [
        {
          "name": "stdout",
          "output_type": "stream",
          "text": [
            "percentage accuracy:  93.84031791907515\n"
          ]
        }
      ],
      "source": [
        "# Initialize the DecisionTreeClassifier\n",
        "\n",
        "model_depth_6_b = DecisionTreeClassifier(\n",
        "    max_depth=6,class_weight=\"balanced\",random_state=22)\n",
        "\n",
        "# Fit the model\n",
        "model_depth_6_b.fit(features_train,target_train)\n",
        "\n",
        "# Print the percentage accuracy of the prediction\n",
        "print('percentage accuracy: ', model_depth_6_b.score(features_test,target_test)*100)"
      ]
    },
    {
      "cell_type": "code",
      "execution_count": null,
      "id": "48d51bd4",
      "metadata": {
        "id": "48d51bd4",
        "outputId": "1c7f8e42-b4d6-4f63-a864-8ff5b4bec4aa"
      },
      "outputs": [
        {
          "name": "stdout",
          "output_type": "stream",
          "text": [
            "recall score:  0.9857142857142858\n",
            "ROC/AUC score:  0.9858603721359372\n",
            "recall score for the balanced model:  0.9417582417582417\n",
            "ROC/AUC score for the balanced model:  0.9669770756692178\n"
          ]
        }
      ],
      "source": [
        "# Comparing balance and imbalance model values\n",
        "\n",
        "# Print the recall score\n",
        "print('recall score: ', recall_score(target_test, prediction))\n",
        "\n",
        "# Print the ROC/AUC score\n",
        "print('ROC/AUC score: ', roc_auc_score(target_test, prediction))\n",
        "\n",
        "# Initialize the model\n",
        "model_depth_7_b = DecisionTreeClassifier(max_depth=7, class_weight=\"balanced\", random_state=22)\n",
        "\n",
        "# Fit it to the training component\n",
        "model_depth_7_b.fit(features_train, target_train)\n",
        "\n",
        "# Make prediction using test component\n",
        "prediction_b = model_depth_7_b.predict(features_test)\n",
        "\n",
        "# Print the recall score for the balanced model\n",
        "print('recall score for the balanced model: ', recall_score(target_test, prediction_b))\n",
        "\n",
        "# Print the ROC/AUC score for the balanced model\n",
        "print('ROC/AUC score for the balanced model: ', roc_auc_score(target_test, prediction_b))\n"
      ]
    },
    {
      "cell_type": "code",
      "execution_count": null,
      "id": "a6f5f94f",
      "metadata": {
        "scrolled": true,
        "id": "a6f5f94f",
        "outputId": "6bc5c696-8bb8-49a0-d780-e2c7a3950a21"
      },
      "outputs": [
        {
          "name": "stdout",
          "output_type": "stream",
          "text": [
            "[0.98374718 0.99141825 0.96251129 0.95709124 0.95573622 0.97741644\n",
            " 0.98148148 0.98780488 0.99909666 0.99503162]\n"
          ]
        }
      ],
      "source": [
        "# implementing cross validation\n",
        "\n",
        "from sklearn.model_selection import cross_val_score\n",
        "\n",
        "# print the cross validation score for 10 folds\n",
        "print(cross_val_score(model,features,target,cv=10))"
      ]
    },
    {
      "cell_type": "code",
      "execution_count": null,
      "id": "642e1fc4",
      "metadata": {
        "id": "642e1fc4"
      },
      "outputs": [],
      "source": [
        "# Setting up GridSearch parameters\n",
        "\n",
        "# Generating values for maximum_depth\n",
        "depth = [i for i in range(5,21,1)]\n",
        "\n",
        "# Generating values for minimum sample size\n",
        "samples = [i for i in range(50,500,50)]\n",
        "\n",
        "# Create the dictionary with parameters to be checked\n",
        "parameters = dict(max_depth=depth, min_samples_leaf=samples)"
      ]
    },
    {
      "cell_type": "code",
      "execution_count": null,
      "id": "f29f6934",
      "metadata": {
        "id": "f29f6934",
        "outputId": "a5e03a83-901a-45d5-d727-af9cb8837274"
      },
      "outputs": [
        {
          "name": "stdout",
          "output_type": "stream",
          "text": [
            "{'max_depth': 6, 'min_samples_leaf': 50}\n"
          ]
        }
      ],
      "source": [
        "# import the GridSearchCV function\n",
        "from sklearn.model_selection import GridSearchCV\n",
        "\n",
        "# set up parameters: done\n",
        "parameters = dict(max_depth=depth, min_samples_leaf=samples)\n",
        "\n",
        "# initialize GridSearchCV function,\n",
        "# the param_search function,\n",
        "# model and parameters\n",
        "param_search = GridSearchCV(model, parameters)\n",
        "\n",
        "# fit the param_search to the training dataset\n",
        "param_search.fit(features_train, target_train)\n",
        "\n",
        "\n",
        "# print the best parameters found\n",
        "print(param_search.best_params_)"
      ]
    },
    {
      "cell_type": "code",
      "execution_count": null,
      "id": "e309ce0a",
      "metadata": {
        "id": "e309ce0a",
        "outputId": "196fc3db-a1b8-424d-ddab-e031d19c9383"
      },
      "outputs": [
        {
          "data": {
            "text/html": [
              "<div>\n",
              "<style scoped>\n",
              "    .dataframe tbody tr th:only-of-type {\n",
              "        vertical-align: middle;\n",
              "    }\n",
              "\n",
              "    .dataframe tbody tr th {\n",
              "        vertical-align: top;\n",
              "    }\n",
              "\n",
              "    .dataframe thead th {\n",
              "        text-align: right;\n",
              "    }\n",
              "</style>\n",
              "<table border=\"1\" class=\"dataframe\">\n",
              "  <thead>\n",
              "    <tr style=\"text-align: right;\">\n",
              "      <th></th>\n",
              "      <th>Feature</th>\n",
              "      <th>Importance</th>\n",
              "      <th>Percentage</th>\n",
              "    </tr>\n",
              "  </thead>\n",
              "  <tbody>\n",
              "    <tr>\n",
              "      <th>0</th>\n",
              "      <td>satisfaction_level</td>\n",
              "      <td>0.534446</td>\n",
              "      <td>53.444627</td>\n",
              "    </tr>\n",
              "    <tr>\n",
              "      <th>4</th>\n",
              "      <td>time_spend_company</td>\n",
              "      <td>0.307453</td>\n",
              "      <td>30.745259</td>\n",
              "    </tr>\n",
              "    <tr>\n",
              "      <th>1</th>\n",
              "      <td>last_evaluation</td>\n",
              "      <td>0.087300</td>\n",
              "      <td>8.730015</td>\n",
              "    </tr>\n",
              "    <tr>\n",
              "      <th>3</th>\n",
              "      <td>average_montly_hours</td>\n",
              "      <td>0.044046</td>\n",
              "      <td>4.404633</td>\n",
              "    </tr>\n",
              "    <tr>\n",
              "      <th>2</th>\n",
              "      <td>number_project</td>\n",
              "      <td>0.026739</td>\n",
              "      <td>2.673896</td>\n",
              "    </tr>\n",
              "    <tr>\n",
              "      <th>7</th>\n",
              "      <td>salary</td>\n",
              "      <td>0.000016</td>\n",
              "      <td>0.001570</td>\n",
              "    </tr>\n",
              "    <tr>\n",
              "      <th>11</th>\n",
              "      <td>hr</td>\n",
              "      <td>0.000000</td>\n",
              "      <td>0.000000</td>\n",
              "    </tr>\n",
              "    <tr>\n",
              "      <th>15</th>\n",
              "      <td>sales</td>\n",
              "      <td>0.000000</td>\n",
              "      <td>0.000000</td>\n",
              "    </tr>\n",
              "    <tr>\n",
              "      <th>14</th>\n",
              "      <td>product_mng</td>\n",
              "      <td>0.000000</td>\n",
              "      <td>0.000000</td>\n",
              "    </tr>\n",
              "    <tr>\n",
              "      <th>13</th>\n",
              "      <td>marketing</td>\n",
              "      <td>0.000000</td>\n",
              "      <td>0.000000</td>\n",
              "    </tr>\n",
              "    <tr>\n",
              "      <th>12</th>\n",
              "      <td>management</td>\n",
              "      <td>0.000000</td>\n",
              "      <td>0.000000</td>\n",
              "    </tr>\n",
              "    <tr>\n",
              "      <th>8</th>\n",
              "      <td>IT</td>\n",
              "      <td>0.000000</td>\n",
              "      <td>0.000000</td>\n",
              "    </tr>\n",
              "    <tr>\n",
              "      <th>10</th>\n",
              "      <td>accounting</td>\n",
              "      <td>0.000000</td>\n",
              "      <td>0.000000</td>\n",
              "    </tr>\n",
              "    <tr>\n",
              "      <th>9</th>\n",
              "      <td>RandD</td>\n",
              "      <td>0.000000</td>\n",
              "      <td>0.000000</td>\n",
              "    </tr>\n",
              "    <tr>\n",
              "      <th>6</th>\n",
              "      <td>promotion_last_5years</td>\n",
              "      <td>0.000000</td>\n",
              "      <td>0.000000</td>\n",
              "    </tr>\n",
              "    <tr>\n",
              "      <th>5</th>\n",
              "      <td>Work_accident</td>\n",
              "      <td>0.000000</td>\n",
              "      <td>0.000000</td>\n",
              "    </tr>\n",
              "    <tr>\n",
              "      <th>16</th>\n",
              "      <td>support</td>\n",
              "      <td>0.000000</td>\n",
              "      <td>0.000000</td>\n",
              "    </tr>\n",
              "  </tbody>\n",
              "</table>\n",
              "</div>"
            ],
            "text/plain": [
              "                  Feature  Importance  Percentage\n",
              "0      satisfaction_level    0.534446   53.444627\n",
              "4      time_spend_company    0.307453   30.745259\n",
              "1         last_evaluation    0.087300    8.730015\n",
              "3    average_montly_hours    0.044046    4.404633\n",
              "2          number_project    0.026739    2.673896\n",
              "7                  salary    0.000016    0.001570\n",
              "11                     hr    0.000000    0.000000\n",
              "15                  sales    0.000000    0.000000\n",
              "14            product_mng    0.000000    0.000000\n",
              "13              marketing    0.000000    0.000000\n",
              "12             management    0.000000    0.000000\n",
              "8                      IT    0.000000    0.000000\n",
              "10             accounting    0.000000    0.000000\n",
              "9                   RandD    0.000000    0.000000\n",
              "6   promotion_last_5years    0.000000    0.000000\n",
              "5           Work_accident    0.000000    0.000000\n",
              "16                support    0.000000    0.000000"
            ]
          },
          "execution_count": 23,
          "metadata": {},
          "output_type": "execute_result"
        }
      ],
      "source": [
        "# Calculation features importance using model best parameters\n",
        "\n",
        "model_best = DecisionTreeClassifier(max_depth=6, min_samples_leaf=50, random_state=22)\n",
        "model_best.fit(features_train, target_train)\n",
        "\n",
        "# Calculate feature importances\n",
        "feature_importances = model_best.feature_importances_\n",
        "\n",
        "# Create a list of features\n",
        "feature_list = list(features)\n",
        "\n",
        "# Save the results inside a DataFrame using feature_list as an index\n",
        "relative_importances = pd.DataFrame(\n",
        "    index=feature_list, data=feature_importances, columns=[\"Importance\"])\n",
        "\n",
        "# renaming index as Feature\n",
        "relative_importances = relative_importances.rename_axis('Feature').reset_index()\n",
        "\n",
        "\n",
        "# assign percentages importance\n",
        "relative_importances[\"Percentage\"] = relative_importances[\"Importance\"]*100\n",
        "\n",
        "# Sort values to learn most important features\n",
        "relative_importances.sort_values(by=\"Importance\", ascending=False)"
      ]
    },
    {
      "cell_type": "code",
      "execution_count": null,
      "id": "b4469a10",
      "metadata": {
        "id": "b4469a10"
      },
      "outputs": [],
      "source": [
        "# selecting  features with importance greater than 1%\n",
        "selected_features = relative_importances[relative_importances.Importance>0.01]\n",
        "\n",
        "# Sorting values selected_features\n",
        "selected_features.sort_values(by=\"Importance\", ascending=False)\n",
        "\n",
        "# create a list from those features\n",
        "selected_list = selected_features.Feature\n",
        "\n",
        "\n",
        "# transform both features_train and features_test\n",
        "# components to include only selected features\n",
        "features_train_selected = features_train[selected_list]\n",
        "features_test_selected = features_test[selected_list]\n"
      ]
    },
    {
      "cell_type": "code",
      "execution_count": null,
      "id": "93a48b46",
      "metadata": {
        "scrolled": false,
        "id": "93a48b46",
        "outputId": "c570a273-814a-4233-db36-a2e429018f38"
      },
      "outputs": [
        {
          "name": "stdout",
          "output_type": "stream",
          "text": [
            "accuracy =  95.55635838150289\n",
            "recall score =  92.14285714285714\n",
            "ROC/AUC score =  94.68552975549746\n"
          ]
        }
      ],
      "source": [
        "# Initialize the best model using parameters provided in description\n",
        "model_best = DecisionTreeClassifier(\n",
        "    max_depth=8, min_samples_leaf=150, class_weight=\"balanced\", random_state=22)\n",
        "\n",
        "# Fit the model using only selected features from training set: done\n",
        "model_best.fit(features_train_selected, target_train)\n",
        "\n",
        "# Make prediction based on selected list of features from test set\n",
        "prediction_best = model_best.predict(features_test_selected)\n",
        "\n",
        "# Print the general accuracy of the model_best\n",
        "print(\"accuracy = \", model_best.score(features_test_selected, target_test) * 100)\n",
        "\n",
        "# Print the recall score of the model predictions\n",
        "print(\"recall score = \", recall_score(target_test, prediction_best) * 100)\n",
        "\n",
        "# Print the ROC/AUC score of the model predictions\n",
        "print(\"ROC/AUC score = \", roc_auc_score(target_test, prediction_best) * 100)"
      ]
    },
    {
      "cell_type": "code",
      "execution_count": null,
      "id": "300a7e49",
      "metadata": {
        "scrolled": true,
        "id": "300a7e49",
        "outputId": "cb5c5d34-4ee1-401d-a2e5-3698eb094f52"
      },
      "outputs": [
        {
          "data": {
            "image/png": "[encoded data removed]",
            "text/plain": [
              "<Figure size 432x288 with 1 Axes>"
            ]
          },
          "metadata": {
            "needs_background": "light"
          },
          "output_type": "display_data"
        }
      ],
      "source": [
        "# Visualizing selected_features\n",
        "#selected_features.Feature    // index = Feature\n",
        "#selected_features.Importance\n",
        "#selected_features.Percentage\n",
        "\n",
        "values = selected_features.Percentage\n",
        "idx = selected_features.Feature\n",
        "plt.figure(figsize=(6,4))\n",
        "clrs = ['green' if (x < max(values)) else 'red' for x in values]\n",
        "sns.barplot(y=idx,x=values,palette=clrs).set(\n",
        "    title='% Important features to predict employee churn')\n",
        "plt.show()"
      ]
    },
    {
      "cell_type": "code",
      "execution_count": null,
      "id": "2063a900",
      "metadata": {
        "id": "2063a900",
        "outputId": "0c77234b-1e2a-4704-baee-2429e80a3275"
      },
      "outputs": [
        {
          "data": {
            "text/html": [
              "<div>\n",
              "<style scoped>\n",
              "    .dataframe tbody tr th:only-of-type {\n",
              "        vertical-align: middle;\n",
              "    }\n",
              "\n",
              "    .dataframe tbody tr th {\n",
              "        vertical-align: top;\n",
              "    }\n",
              "\n",
              "    .dataframe thead th {\n",
              "        text-align: right;\n",
              "    }\n",
              "</style>\n",
              "<table border=\"1\" class=\"dataframe\">\n",
              "  <thead>\n",
              "    <tr style=\"text-align: right;\">\n",
              "      <th></th>\n",
              "      <th>Feature</th>\n",
              "      <th>Importance</th>\n",
              "      <th>Percentage</th>\n",
              "    </tr>\n",
              "  </thead>\n",
              "  <tbody>\n",
              "    <tr>\n",
              "      <th>0</th>\n",
              "      <td>satisfaction_level</td>\n",
              "      <td>0.534446</td>\n",
              "      <td>53.444627</td>\n",
              "    </tr>\n",
              "    <tr>\n",
              "      <th>1</th>\n",
              "      <td>last_evaluation</td>\n",
              "      <td>0.087300</td>\n",
              "      <td>8.730015</td>\n",
              "    </tr>\n",
              "    <tr>\n",
              "      <th>2</th>\n",
              "      <td>number_project</td>\n",
              "      <td>0.026739</td>\n",
              "      <td>2.673896</td>\n",
              "    </tr>\n",
              "    <tr>\n",
              "      <th>3</th>\n",
              "      <td>average_montly_hours</td>\n",
              "      <td>0.044046</td>\n",
              "      <td>4.404633</td>\n",
              "    </tr>\n",
              "    <tr>\n",
              "      <th>4</th>\n",
              "      <td>time_spend_company</td>\n",
              "      <td>0.307453</td>\n",
              "      <td>30.745259</td>\n",
              "    </tr>\n",
              "  </tbody>\n",
              "</table>\n",
              "</div>"
            ],
            "text/plain": [
              "                Feature  Importance  Percentage\n",
              "0    satisfaction_level    0.534446   53.444627\n",
              "1       last_evaluation    0.087300    8.730015\n",
              "2        number_project    0.026739    2.673896\n",
              "3  average_montly_hours    0.044046    4.404633\n",
              "4    time_spend_company    0.307453   30.745259"
            ]
          },
          "execution_count": 27,
          "metadata": {},
          "output_type": "execute_result"
        }
      ],
      "source": [
        "cat_totals = transform_clean_data.groupby(\"time_spend_company\")[\"status\"].sum().sort_values(ascending=False)\n",
        "selected_features"
      ]
    },
    {
      "cell_type": "code",
      "execution_count": null,
      "id": "fae30366",
      "metadata": {
        "id": "fae30366",
        "outputId": "cc9472d7-3b36-44e1-a89b-7e51c580e56e"
      },
      "outputs": [
        {
          "name": "stdout",
          "output_type": "stream",
          "text": [
            "KMeans(n_clusters=3, random_state=22)\n"
          ]
        }
      ],
      "source": [
        "#importing Python module\n",
        "from sklearn.cluster import KMeans\n",
        "\n",
        "#Filtering the data\n",
        "left_attrition_Status =  transform_clean_data[['satisfaction_level', 'last_evaluation']][transform_clean_data.status == 1]\n",
        "\n",
        "# Creating groups using K-means clustering.\n",
        "kmeans = KMeans(n_clusters = 3, random_state = 22).fit(left_attrition_Status)\n",
        "print(kmeans)"
      ]
    },
    {
      "cell_type": "code",
      "execution_count": null,
      "id": "5b8d6776",
      "metadata": {
        "id": "5b8d6776",
        "outputId": "1bb630a9-228b-4357-9c6c-a846475ca089"
      },
      "outputs": [
        {
          "data": {
            "image/png": "[encoded data removed]",
            "text/plain": [
              "<Figure size 432x288 with 1 Axes>"
            ]
          },
          "metadata": {
            "needs_background": "light"
          },
          "output_type": "display_data"
        }
      ],
      "source": [
        "\n",
        "\n",
        "left_attrition_Status['label'] = kmeans.labels_\n",
        "\n",
        "# Draw scatter plot\n",
        "plt.scatter(left_attrition_Status['satisfaction_level'], left_attrition_Status['last_evaluation'], c=left_attrition_Status['label'],cmap='Accent')\n",
        "plt.xlabel('Satisfaction Level')\n",
        "plt.ylabel('Last Evaluation')\n",
        "plt.title('Three Clusters of employees who left Company')\n",
        "plt.show()"
      ]
    },
    {
      "cell_type": "code",
      "execution_count": null,
      "id": "2ab71d89",
      "metadata": {
        "scrolled": true,
        "id": "2ab71d89"
      },
      "outputs": [],
      "source": []
    },
    {
      "cell_type": "raw",
      "id": "9b1cac70",
      "metadata": {
        "id": "9b1cac70"
      },
      "source": [
        "#number of people who stayed/left\n",
        "stayed = 37\n",
        "left = 1138\n",
        "#sum of stayed and left\n",
        "total = stayed + left\n",
        "#gini index\n",
        "gini = 2*(left/total)*(stayed/total)\n",
        "\n",
        "# Gini index in case of splitting by variable A or B\n",
        "gini_A = 0.65\n",
        "gini_B = 0.15\n",
        "\n",
        "# check which Gini is lower and use it for spliting\n",
        "if gini_A < gini_B:\n",
        "    print(\"split by A!\")\n",
        "else:\n",
        "    print(\"split by B!\")"
      ]
    },
    {
      "cell_type": "code",
      "execution_count": null,
      "id": "307f0009",
      "metadata": {
        "id": "307f0009"
      },
      "outputs": [],
      "source": []
    }
  ],
  "metadata": {
    "kernelspec": {
      "display_name": "Python 3",
      "language": "python",
      "name": "python3"
    },
    "language_info": {
      "codemirror_mode": {
        "name": "ipython",
        "version": 3
      },
      "file_extension": ".py",
      "mimetype": "text/x-python",
      "name": "python",
      "nbconvert_exporter": "python",
      "pygments_lexer": "ipython3",
      "version": "3.8.8"
    },
    "toc": {
      "base_numbering": 1,
      "nav_menu": {},
      "number_sections": true,
      "sideBar": false,
      "skip_h1_title": true,
      "title_cell": "Table of Contents",
      "title_sidebar": "Contents",
      "toc_cell": true,
      "toc_position": {},
      "toc_section_display": true,
      "toc_window_display": false
    },
    "colab": {
      "provenance": [],
      "include_colab_link": true
    }
  },
  "nbformat": 4,
  "nbformat_minor": 5
}